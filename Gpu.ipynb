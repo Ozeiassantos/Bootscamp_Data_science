{
  "nbformat": 4,
  "nbformat_minor": 0,
  "metadata": {
    "colab": {
      "provenance": [],
      "gpuType": "T4",
      "authorship_tag": "ABX9TyPflllrAghXnoYP0YGqSnfI",
      "include_colab_link": true
    },
    "kernelspec": {
      "name": "python3",
      "display_name": "Python 3"
    },
    "language_info": {
      "name": "python"
    },
    "accelerator": "GPU"
  },
  "cells": [
    {
      "cell_type": "markdown",
      "metadata": {
        "id": "view-in-github",
        "colab_type": "text"
      },
      "source": [
        "<a href=\"https://colab.research.google.com/github/Ozeiassantos/Bootscamp_Data_science/blob/main/Gpu.ipynb\" target=\"_parent\"><img src=\"https://colab.research.google.com/assets/colab-badge.svg\" alt=\"Open In Colab\"/></a>"
      ]
    },
    {
      "cell_type": "markdown",
      "source": [
        "First **colab** Tensores\n"
      ],
      "metadata": {
        "id": "Fwwu1iSOHBWF"
      }
    },
    {
      "cell_type": "markdown",
      "source": [
        "**sintaxe Básica do Pytorch**"
      ],
      "metadata": {
        "id": "MBSrp6_dIlXU"
      }
    },
    {
      "cell_type": "code",
      "source": [
        "import torch\n",
        "\n",
        "lista =[[1,2,3],\n",
        "        [4,5,6]]\n",
        "\n",
        "tns = torch.Tensor(lista)\n",
        "print(tns.dtype)\n",
        "print(tns)\n",
        "\n",
        "tns = torch.FloatTensor(lista)\n",
        "print(tns.dtype)\n",
        "print(tns)\n",
        "\n",
        "tns = torch.DoubleTensor(lista)\n",
        "print(tns.dtype)\n",
        "print(tns)\n",
        "\n",
        "tns = torch.LongTensor(lista)\n",
        "print(tns.dtype)\n",
        "print(tns)"
      ],
      "metadata": {
        "colab": {
          "base_uri": "https://localhost:8080/"
        },
        "id": "faJ0SM5BHOTy",
        "outputId": "f2119739-59f2-40b6-deaa-96957804e6cb"
      },
      "execution_count": 6,
      "outputs": [
        {
          "output_type": "stream",
          "name": "stdout",
          "text": [
            "torch.float32\n",
            "tensor([[1., 2., 3.],\n",
            "        [4., 5., 6.]])\n",
            "torch.float32\n",
            "tensor([[1., 2., 3.],\n",
            "        [4., 5., 6.]])\n",
            "torch.float64\n",
            "tensor([[1., 2., 3.],\n",
            "        [4., 5., 6.]], dtype=torch.float64)\n",
            "torch.int64\n",
            "tensor([[1, 2, 3],\n",
            "        [4, 5, 6]])\n"
          ]
        }
      ]
    },
    {
      "cell_type": "markdown",
      "source": [
        "**Outras formas é apartir de arrays Numby**"
      ],
      "metadata": {
        "id": "3y7hdbi_LB79"
      }
    },
    {
      "cell_type": "code",
      "source": [
        "import numpy as np\n",
        "\n",
        "arr = np.random.rand(3,4)\n",
        "#arr = arr.astype(int)\n",
        "tns = torch.from_numpy(arr)\n",
        "\n",
        "print(arr)\n",
        "print(arr.dtype)\n",
        "\n",
        "print(tns)\n",
        "print(arr.dtype)"
      ],
      "metadata": {
        "colab": {
          "base_uri": "https://localhost:8080/"
        },
        "id": "QLWpC6v2LLIS",
        "outputId": "ab91cf96-cbc8-4dda-d607-e3e20205cf75"
      },
      "execution_count": 11,
      "outputs": [
        {
          "output_type": "stream",
          "name": "stdout",
          "text": [
            "[[0 0 0 0]\n",
            " [0 0 0 0]\n",
            " [0 0 0 0]]\n",
            "int64\n",
            "tensor([[0, 0, 0, 0],\n",
            "        [0, 0, 0, 0],\n",
            "        [0, 0, 0, 0]])\n",
            "int64\n"
          ]
        }
      ]
    },
    {
      "cell_type": "markdown",
      "source": [
        "**Tensores Inicialisados**"
      ],
      "metadata": {
        "id": "CzcE3q3WMm5s"
      }
    },
    {
      "cell_type": "code",
      "source": [
        "tns1 = torch.ones(2,3)\n",
        "tns0 = torch.zeros(4,5)\n",
        "tnsr = torch.randn(3,3)\n",
        "\n",
        "print(tns1)\n",
        "print(tns0)\n",
        "print(tnsr)"
      ],
      "metadata": {
        "colab": {
          "base_uri": "https://localhost:8080/"
        },
        "id": "4Rlx3jzbMxS7",
        "outputId": "869dbf92-98c5-4860-ec8b-302842ffffb2"
      },
      "execution_count": 13,
      "outputs": [
        {
          "output_type": "stream",
          "name": "stdout",
          "text": [
            "tensor([[1., 1., 1.],\n",
            "        [1., 1., 1.]])\n",
            "tensor([[0., 0., 0., 0., 0.],\n",
            "        [0., 0., 0., 0., 0.],\n",
            "        [0., 0., 0., 0., 0.],\n",
            "        [0., 0., 0., 0., 0.]])\n",
            "tensor([[ 1.9788,  0.5399, -0.7756],\n",
            "        [ 0.4896, -0.5394,  0.0544],\n",
            "        [ 0.8611, -0.7709, -1.2770]])\n"
          ]
        }
      ]
    },
    {
      "cell_type": "markdown",
      "source": [
        "**Tensor para array Numby**"
      ],
      "metadata": {
        "id": "dQI4fLCgNhXG"
      }
    },
    {
      "cell_type": "code",
      "source": [
        "print(type(tnsr))\n",
        "\n",
        "arrr = tnsr.data.numpy()\n",
        "print(arrr)\n",
        "print(type(arrr))"
      ],
      "metadata": {
        "colab": {
          "base_uri": "https://localhost:8080/"
        },
        "id": "YyepRmarNlpb",
        "outputId": "4eaa45a8-b657-465e-8456-8b8fd247e7f8"
      },
      "execution_count": 16,
      "outputs": [
        {
          "output_type": "stream",
          "name": "stdout",
          "text": [
            "<class 'torch.Tensor'>\n",
            "[[ 1.9788213   0.53985983 -0.77560663]\n",
            " [ 0.4895604  -0.5393635   0.05441441]\n",
            " [ 0.8611105  -0.770947   -1.2770303 ]]\n",
            "<class 'numpy.ndarray'>\n"
          ]
        }
      ]
    },
    {
      "cell_type": "markdown",
      "source": [
        "# **Indexação**"
      ],
      "metadata": {
        "id": "Yw0d5FwzOeCW"
      }
    },
    {
      "cell_type": "code",
      "source": [
        "print(tnsr)\n",
        "#tnsr[0, 2] = -10\n",
        "\n",
        "print('')\n",
        "print(tnsr)\n",
        "\n"
      ],
      "metadata": {
        "colab": {
          "base_uri": "https://localhost:8080/"
        },
        "id": "IskItyJqPi0M",
        "outputId": "70531964-2adb-472e-fe92-4bb9a99f4d5c"
      },
      "execution_count": 27,
      "outputs": [
        {
          "output_type": "stream",
          "name": "stdout",
          "text": [
            "tensor([[  1.9788,   0.5399, -10.0000],\n",
            "        [  0.4896,  -0.5394,   0.0544],\n",
            "        [  0.8611,  -0.7709,  -1.2770]])\n",
            "\n",
            "tensor([[  1.9788,   0.5399, -10.0000],\n",
            "        [  0.4896,  -0.5394,   0.0544],\n",
            "        [  0.8611,  -0.7709,  -1.2770]])\n"
          ]
        }
      ]
    },
    {
      "cell_type": "markdown",
      "source": [
        "acessando as linhas:"
      ],
      "metadata": {
        "id": "e45hIiv3QaT-"
      }
    },
    {
      "cell_type": "code",
      "source": [
        "print(tnsr[0:2])\n",
        "print('')\n",
        "print(tnsr[:,2])"
      ],
      "metadata": {
        "colab": {
          "base_uri": "https://localhost:8080/"
        },
        "id": "hKKIHS1yQdlG",
        "outputId": "e879baf6-173f-4c00-b1af-521d3cba3686"
      },
      "execution_count": 30,
      "outputs": [
        {
          "output_type": "stream",
          "name": "stdout",
          "text": [
            "tensor([[  1.9788,   0.5399, -10.0000],\n",
            "        [  0.4896,  -0.5394,   0.0544]])\n",
            "\n",
            "tensor([-10.0000,   0.0544,  -1.2770])\n"
          ]
        }
      ]
    },
    {
      "cell_type": "markdown",
      "source": [
        "# Operações com tensores"
      ],
      "metadata": {
        "id": "L6q6qJBuSXF2"
      }
    },
    {
      "cell_type": "code",
      "source": [
        "print(tnsr.shape)\n",
        "print(tns1.shape)\n",
        "\n",
        "tns = tnsr[0:2,:]\n",
        "print(tns.shape)\n",
        "print('')\n",
        "\n",
        "print(tns)\n",
        "print('')\n",
        "print(tns1)\n",
        "print('')\n",
        "\n",
        "print(tns + tns1)\n",
        "\n",
        "print('')\n",
        "\n",
        "print(tns1/tns)"
      ],
      "metadata": {
        "colab": {
          "base_uri": "https://localhost:8080/"
        },
        "id": "3XpUGaeiSdI9",
        "outputId": "4225985d-0a30-4358-b89e-9df74eed1b3f"
      },
      "execution_count": 37,
      "outputs": [
        {
          "output_type": "stream",
          "name": "stdout",
          "text": [
            "torch.Size([3, 3])\n",
            "torch.Size([2, 3])\n",
            "torch.Size([2, 3])\n",
            "\n",
            "tensor([[  1.9788,   0.5399, -10.0000],\n",
            "        [  0.4896,  -0.5394,   0.0544]])\n",
            "\n",
            "tensor([[1., 1., 1.],\n",
            "        [1., 1., 1.]])\n",
            "\n",
            "tensor([[ 2.9788,  1.5399, -9.0000],\n",
            "        [ 1.4896,  0.4606,  1.0544]])\n",
            "\n",
            "tensor([[ 0.5054,  1.8523, -0.1000],\n",
            "        [ 2.0426, -1.8540, 18.3775]])\n"
          ]
        }
      ]
    },
    {
      "cell_type": "markdown",
      "source": [
        "# Função .size() e .view()"
      ],
      "metadata": {
        "id": "1bU_bHuwUQkX"
      }
    },
    {
      "cell_type": "code",
      "source": [
        "tns2 = torch.randn(2,2,3)\n",
        "print(tns2)\n",
        "\n",
        "print(tns2.size())\n",
        "print('')\n",
        "\n",
        "tnsv = print(tns2.view(-1))\n",
        "print(tnsv)"
      ],
      "metadata": {
        "colab": {
          "base_uri": "https://localhost:8080/"
        },
        "id": "kdcAQol6U9km",
        "outputId": "ac8d229a-2579-4e2a-c122-2880862ac24d"
      },
      "execution_count": 44,
      "outputs": [
        {
          "output_type": "stream",
          "name": "stdout",
          "text": [
            "tensor([[[ 1.1024, -0.4721,  0.1864],\n",
            "         [ 0.8573,  0.6950,  1.4561]],\n",
            "\n",
            "        [[-0.3974,  0.7795, -0.3172],\n",
            "         [-0.8229,  0.7513, -0.1204]]])\n",
            "torch.Size([2, 2, 3])\n",
            "\n",
            "tensor([ 1.1024, -0.4721,  0.1864,  0.8573,  0.6950,  1.4561, -0.3974,  0.7795,\n",
            "        -0.3172, -0.8229,  0.7513, -0.1204])\n",
            "None\n"
          ]
        }
      ]
    },
    {
      "cell_type": "markdown",
      "source": [
        "### GPU Cast"
      ],
      "metadata": {
        "id": "DobTcpgvdTma"
      }
    },
    {
      "cell_type": "code",
      "source": [
        "import torch\n",
        "\n",
        "tns3 = torch.randn(10)\n",
        "\n",
        "if torch.cuda.is_available():\n",
        "  device = torch.device('cuda')\n",
        "else:\n",
        "  device = torch.device('cpu')\n",
        "print(device)\n",
        "\n",
        "tns3 = tns3.to(device)\n",
        "print(tns3)"
      ],
      "metadata": {
        "colab": {
          "base_uri": "https://localhost:8080/"
        },
        "id": "pttZGfAFdY2y",
        "outputId": "c8183414-43ec-49cc-caf5-55b451558cfd"
      },
      "execution_count": 1,
      "outputs": [
        {
          "output_type": "stream",
          "name": "stdout",
          "text": [
            "cuda\n",
            "tensor([-0.2637, -0.3690,  1.4339, -0.9729,  0.3255, -0.5697,  0.1105, -0.2718,\n",
            "        -0.0371,  0.7604], device='cuda:0')\n"
          ]
        }
      ]
    }
  ]
}